{
 "cells": [
  {
   "cell_type": "markdown",
   "id": "9edac580",
   "metadata": {},
   "source": [
    "## Assignment"
   ]
  },
  {
   "cell_type": "code",
   "execution_count": 89,
   "id": "8145ef98",
   "metadata": {},
   "outputs": [],
   "source": [
    "import pandas as pd\n",
    "import os"
   ]
  },
  {
   "cell_type": "code",
   "execution_count": 2,
   "id": "927af65b",
   "metadata": {},
   "outputs": [],
   "source": [
    "from bs4 import BeautifulSoup"
   ]
  },
  {
   "cell_type": "code",
   "execution_count": 3,
   "id": "41eac1fe",
   "metadata": {},
   "outputs": [],
   "source": [
    "import codecs\n",
    "with codecs.open(\"jumia_data/32-inch-smart-android-tv-with-air-mouse-bluetooth-functionscreen-mirrowing-infinix-mpg1576316.html\",'r', encoding='utf-8',\n",
    "                 errors='ignore') as file:\n",
    "    soup = BeautifulSoup(file, 'lxml')"
   ]
  },
  {
   "cell_type": "code",
   "execution_count": 103,
   "id": "4bf86046",
   "metadata": {},
   "outputs": [
    {
     "data": {
      "text/plain": [
       "['generic-32-inch-720p-hd-led-flat-panel-tv-with-ips-screen-with-usb-port-overvoltage-protection-109678912.html',\n",
       " 'horizon-32-inches-full-hd-led-tv-free-wall-hanger-power-guard-hdmi-cable-58538489.html',\n",
       " 'infinity-32-inches-full-hd-led-tv-free-wall-hanger-hdmi-wire-67942195.html',\n",
       " '32-inch-smart-android-tv-with-air-mouse-bluetooth-functionscreen-mirrowing-infinix-mpg1576316.html',\n",
       " 'itel-32-inches-a3240ge-icast-feature-overvoltage-protection-89090905.html',\n",
       " 'infinix-32-inch-smart-android-tv-71343628.html',\n",
       " 'weyon-40-inches-led-tv-1-years-warranty-black-99076456.html',\n",
       " '32-inches-led-tv-1-years-warranty-black-weyon-mpg1676899.html',\n",
       " 'weyon-39-inches-led-tv-1-years-warranty-black-134011544.html',\n",
       " '50-inch-smart-uhd-4k-tv-50-2019-black-with-dstv-now-app-hisense-mpg1224272.html',\n",
       " 'lg-50-4k-uhd-smart-tvnetflixyoutube-app-apple-airplay-53869419.html',\n",
       " '43inches-full-hd-led-tv-new-2019-with-1year-warranty-amani-mpg1202902.html',\n",
       " 'uka-24-inch-led-tv-t24e01-black-89151273.html',\n",
       " 'infinix-32-inch-smart-android-tv-with-netflixyoutube-88598965.html',\n",
       " 'hisense-43smart-tv-netflixyoutube-app-12-months-warranty-63896848.html',\n",
       " 'kuhl-43-inch-full-hd-led-tv-129136206.html']"
      ]
     },
     "execution_count": 103,
     "metadata": {},
     "output_type": "execute_result"
    }
   ],
   "source": [
    "os.listdir(folder)"
   ]
  },
  {
   "cell_type": "code",
   "execution_count": 5,
   "id": "e2b0fdae",
   "metadata": {},
   "outputs": [
    {
     "data": {
      "text/plain": [
       "\"Infinix 32'' Inch Smart Android  TV\""
      ]
     },
     "execution_count": 5,
     "metadata": {},
     "output_type": "execute_result"
    }
   ],
   "source": [
    "soup.find('title').contents[0][:-len(' | Jumia Nigeria')]"
   ]
  },
  {
   "cell_type": "code",
   "execution_count": 21,
   "id": "9b0ddcc4",
   "metadata": {},
   "outputs": [
    {
     "data": {
      "text/plain": [
       "'4.5'"
      ]
     },
     "execution_count": 21,
     "metadata": {},
     "output_type": "execute_result"
    }
   ],
   "source": [
    "# ratings\n",
    "soup.find(\"div\", class_=\"-fs29 -yl5 -pvxs\").find('span').contents[0]"
   ]
  },
  {
   "cell_type": "code",
   "execution_count": 27,
   "id": "28021f46",
   "metadata": {},
   "outputs": [
    {
     "data": {
      "text/plain": [
       "'216'"
      ]
     },
     "execution_count": 27,
     "metadata": {},
     "output_type": "execute_result"
    }
   ],
   "source": [
    "#Number of user ratings\n",
    "soup.find(\"div\", class_=\"-fsh0 -bg-gy05 -df -d-co -i-ctr -rad4 -pam\").find_all('p')[0].contents[0][:-len(' verified ratings')]"
   ]
  },
  {
   "cell_type": "code",
   "execution_count": 60,
   "id": "8a20e2b2",
   "metadata": {},
   "outputs": [
    {
     "data": {
      "text/plain": [
       "'120000'"
      ]
     },
     "execution_count": 60,
     "metadata": {},
     "output_type": "execute_result"
    }
   ],
   "source": [
    "# Actual_price\n",
    "soup.find(\"div\", class_=\"-df -i-ctr\").find_all('span')[0].contents[0].strip().replace(\"₦ \",\"\").replace(\",\",\"\")"
   ]
  },
  {
   "cell_type": "code",
   "execution_count": 87,
   "id": "685508bc",
   "metadata": {},
   "outputs": [
    {
     "data": {
      "text/plain": [
       "'96000'"
      ]
     },
     "execution_count": 87,
     "metadata": {},
     "output_type": "execute_result"
    }
   ],
   "source": [
    "# discounted price\n",
    "soup.find(\"div\", class_=\"-pls -oh\").find('span').contents[0].replace(\"₦ \",\"\").replace(\",\",\"\")"
   ]
  },
  {
   "cell_type": "code",
   "execution_count": 63,
   "id": "74454480",
   "metadata": {},
   "outputs": [
    {
     "data": {
      "text/plain": [
       "'20'"
      ]
     },
     "execution_count": 63,
     "metadata": {},
     "output_type": "execute_result"
    }
   ],
   "source": [
    "# discounted percentage\n",
    "soup.find(\"div\", class_=\"-df -i-ctr\").find_all('span')[1].contents[0].replace(\"%\",\"\")"
   ]
  },
  {
   "cell_type": "code",
   "execution_count": 102,
   "id": "c1394a88",
   "metadata": {},
   "outputs": [
    {
     "data": {
      "text/plain": [
       "'jumia_data'"
      ]
     },
     "execution_count": 102,
     "metadata": {},
     "output_type": "execute_result"
    }
   ],
   "source": [
    "folder = \"jumia_data\"\n",
    "folder"
   ]
  },
  {
   "cell_type": "code",
   "execution_count": 119,
   "id": "aa7a9dd6",
   "metadata": {},
   "outputs": [
    {
     "name": "stdout",
     "output_type": "stream",
     "text": [
      "Exception: list index out of range\n"
     ]
    }
   ],
   "source": [
    "jumia = []\n",
    "for goods in os.listdir(folder):\n",
    "    with codecs.open(os.path.join(folder,goods),'r', encoding='utf-8',\n",
    "                     errors='ignore') as file:\n",
    "        soup = BeautifulSoup(file, 'lxml')\n",
    "        try:\n",
    "            title= soup.find('title').contents[0][:-len(' | Jumia Nigeria')]\n",
    "            ratings=soup.find(\"div\", class_=\"-fs29 -yl5 -pvxs\").find('span').contents[0]\n",
    "            num_users_ratings = soup.find(\"div\", class_=\"-fsh0 -bg-gy05 -df -d-co -i-ctr -rad4 -pam\").find_all('p')[0].contents[0][:-len(' verified ratings')]\n",
    "            actual_price= soup.find(\"div\", class_=\"-df -i-ctr\").find_all('span')[0].contents[0].strip().replace(\"₦ \",\"\").replace(\",\",\"\")\n",
    "            discount_price = soup.find(\"div\", class_=\"-pls -oh\").find('span').contents[0].replace(\"₦ \",\"\").replace(\",\",\"\")\n",
    "            discounted_percent = soup.find(\"div\", class_=\"-df -i-ctr\").find_all('span')[1].contents[0].replace(\"%\",\"\")\n",
    "            jumia.append({'title':title,\n",
    "                            'ratings':ratings,\n",
    "                            'number_ratings':num_users_ratings,\n",
    "                            'price':actual_price,\n",
    "                             'discount':discount_price,\n",
    "                             'discount_percentage':discounted_percent})\n",
    "        except Exception as e:\n",
    "            print(f\"Exception: {e}\")\n",
    "            break"
   ]
  },
  {
   "cell_type": "code",
   "execution_count": 121,
   "id": "4619c8f6",
   "metadata": {},
   "outputs": [
    {
     "data": {
      "text/html": [
       "<div>\n",
       "<style scoped>\n",
       "    .dataframe tbody tr th:only-of-type {\n",
       "        vertical-align: middle;\n",
       "    }\n",
       "\n",
       "    .dataframe tbody tr th {\n",
       "        vertical-align: top;\n",
       "    }\n",
       "\n",
       "    .dataframe thead th {\n",
       "        text-align: right;\n",
       "    }\n",
       "</style>\n",
       "<table border=\"1\" class=\"dataframe\">\n",
       "  <thead>\n",
       "    <tr style=\"text-align: right;\">\n",
       "      <th></th>\n",
       "      <th>title</th>\n",
       "      <th>ratings</th>\n",
       "      <th>number_ratings</th>\n",
       "      <th>price</th>\n",
       "      <th>discount</th>\n",
       "      <th>discount_percentage</th>\n",
       "    </tr>\n",
       "  </thead>\n",
       "  <tbody>\n",
       "    <tr>\n",
       "      <th>0</th>\n",
       "      <td>Generic 32 Inch 720p HD LED Flat Panel TV With...</td>\n",
       "      <td>4</td>\n",
       "      <td>4</td>\n",
       "      <td>90000</td>\n",
       "      <td>57000</td>\n",
       "      <td>37</td>\n",
       "    </tr>\n",
       "    <tr>\n",
       "      <th>1</th>\n",
       "      <td>Horizon 32 Inches Full HD LED TV + Free Wall H...</td>\n",
       "      <td>4.5</td>\n",
       "      <td>47</td>\n",
       "      <td>70000</td>\n",
       "      <td>63900</td>\n",
       "      <td>9</td>\n",
       "    </tr>\n",
       "    <tr>\n",
       "      <th>2</th>\n",
       "      <td>Infinity 32\" Inches Full HD LED Tv + Free Wall...</td>\n",
       "      <td>4.6</td>\n",
       "      <td>19</td>\n",
       "      <td>98000</td>\n",
       "      <td>59899</td>\n",
       "      <td>39</td>\n",
       "    </tr>\n",
       "    <tr>\n",
       "      <th>3</th>\n",
       "      <td>Infinix 32'' Inch Smart Android  TV</td>\n",
       "      <td>4.5</td>\n",
       "      <td>216</td>\n",
       "      <td>120000</td>\n",
       "      <td>96000</td>\n",
       "      <td>20</td>\n",
       "    </tr>\n",
       "    <tr>\n",
       "      <th>4</th>\n",
       "      <td>itel 32\" Inches A3240GE ICast Feature &amp; Overvo...</td>\n",
       "      <td>4.8</td>\n",
       "      <td>63</td>\n",
       "      <td>162330</td>\n",
       "      <td>58400</td>\n",
       "      <td>64</td>\n",
       "    </tr>\n",
       "    <tr>\n",
       "      <th>5</th>\n",
       "      <td>Infinix 32'' Inch  Smart Android  TV</td>\n",
       "      <td>4.5</td>\n",
       "      <td>119</td>\n",
       "      <td>100500</td>\n",
       "      <td>96000</td>\n",
       "      <td>4</td>\n",
       "    </tr>\n",
       "    <tr>\n",
       "      <th>6</th>\n",
       "      <td>WEYON 40\" Inches LED TV  +1 Years Warranty - B...</td>\n",
       "      <td>4.6</td>\n",
       "      <td>79</td>\n",
       "      <td>140000</td>\n",
       "      <td>96100</td>\n",
       "      <td>31</td>\n",
       "    </tr>\n",
       "    <tr>\n",
       "      <th>7</th>\n",
       "      <td>WEYON 32 Inches LED TV</td>\n",
       "      <td>4.3</td>\n",
       "      <td>306</td>\n",
       "      <td>62000</td>\n",
       "      <td>48990</td>\n",
       "      <td>21</td>\n",
       "    </tr>\n",
       "    <tr>\n",
       "      <th>8</th>\n",
       "      <td>WEYON 39\" Inches LED TV  +1 Years Warranty - B...</td>\n",
       "      <td>5</td>\n",
       "      <td>2</td>\n",
       "      <td>130000</td>\n",
       "      <td>89100</td>\n",
       "      <td>31</td>\n",
       "    </tr>\n",
       "    <tr>\n",
       "      <th>9</th>\n",
       "      <td>Hisense 50-Inch Smart UHD 4K TV Black, With Bl...</td>\n",
       "      <td>4.6</td>\n",
       "      <td>35</td>\n",
       "      <td>291300</td>\n",
       "      <td>227700</td>\n",
       "      <td>22</td>\n",
       "    </tr>\n",
       "    <tr>\n",
       "      <th>10</th>\n",
       "      <td>LG 50'' 4K UHD Smart  TV+Netflix,YouTube APP &amp;...</td>\n",
       "      <td>4.6</td>\n",
       "      <td>63</td>\n",
       "      <td>370900</td>\n",
       "      <td>325000</td>\n",
       "      <td>12</td>\n",
       "    </tr>\n",
       "    <tr>\n",
       "      <th>11</th>\n",
       "      <td>Amani 40\"INCHES FULL HD LED TV NEW 2021 WITH 1...</td>\n",
       "      <td>4.5</td>\n",
       "      <td>27</td>\n",
       "      <td>110000</td>\n",
       "      <td>90000</td>\n",
       "      <td>18</td>\n",
       "    </tr>\n",
       "    <tr>\n",
       "      <th>12</th>\n",
       "      <td>UKA 24 INCH LED TV T24E01 - Black</td>\n",
       "      <td>4.2</td>\n",
       "      <td>15</td>\n",
       "      <td>82351</td>\n",
       "      <td>42999</td>\n",
       "      <td>48</td>\n",
       "    </tr>\n",
       "  </tbody>\n",
       "</table>\n",
       "</div>"
      ],
      "text/plain": [
       "                                                title ratings number_ratings  \\\n",
       "0   Generic 32 Inch 720p HD LED Flat Panel TV With...       4              4   \n",
       "1   Horizon 32 Inches Full HD LED TV + Free Wall H...     4.5             47   \n",
       "2   Infinity 32\" Inches Full HD LED Tv + Free Wall...     4.6             19   \n",
       "3                 Infinix 32'' Inch Smart Android  TV     4.5            216   \n",
       "4   itel 32\" Inches A3240GE ICast Feature & Overvo...     4.8             63   \n",
       "5                Infinix 32'' Inch  Smart Android  TV     4.5            119   \n",
       "6   WEYON 40\" Inches LED TV  +1 Years Warranty - B...     4.6             79   \n",
       "7                              WEYON 32 Inches LED TV     4.3            306   \n",
       "8   WEYON 39\" Inches LED TV  +1 Years Warranty - B...       5              2   \n",
       "9   Hisense 50-Inch Smart UHD 4K TV Black, With Bl...     4.6             35   \n",
       "10  LG 50'' 4K UHD Smart  TV+Netflix,YouTube APP &...     4.6             63   \n",
       "11  Amani 40\"INCHES FULL HD LED TV NEW 2021 WITH 1...     4.5             27   \n",
       "12                  UKA 24 INCH LED TV T24E01 - Black     4.2             15   \n",
       "\n",
       "     price discount discount_percentage  \n",
       "0    90000    57000                  37  \n",
       "1    70000    63900                   9  \n",
       "2    98000    59899                  39  \n",
       "3   120000    96000                  20  \n",
       "4   162330    58400                  64  \n",
       "5   100500    96000                   4  \n",
       "6   140000    96100                  31  \n",
       "7    62000    48990                  21  \n",
       "8   130000    89100                  31  \n",
       "9   291300   227700                  22  \n",
       "10  370900   325000                  12  \n",
       "11  110000    90000                  18  \n",
       "12   82351    42999                  48  "
      ]
     },
     "execution_count": 121,
     "metadata": {},
     "output_type": "execute_result"
    }
   ],
   "source": [
    "df = pd.DataFrame(jumia)\n",
    "df.head(14)"
   ]
  },
  {
   "cell_type": "code",
   "execution_count": 118,
   "id": "3ba5d728",
   "metadata": {},
   "outputs": [],
   "source": [
    "df.to_csv(\"jumia.csv\", index=False)"
   ]
  },
  {
   "cell_type": "code",
   "execution_count": null,
   "id": "2a6b539b",
   "metadata": {},
   "outputs": [],
   "source": []
  }
 ],
 "metadata": {
  "kernelspec": {
   "display_name": "Python 3 (ipykernel)",
   "language": "python",
   "name": "python3"
  },
  "language_info": {
   "codemirror_mode": {
    "name": "ipython",
    "version": 3
   },
   "file_extension": ".py",
   "mimetype": "text/x-python",
   "name": "python",
   "nbconvert_exporter": "python",
   "pygments_lexer": "ipython3",
   "version": "3.9.13"
  }
 },
 "nbformat": 4,
 "nbformat_minor": 5
}
